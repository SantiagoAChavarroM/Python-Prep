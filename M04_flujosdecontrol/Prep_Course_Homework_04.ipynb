{
 "cells": [
  {
   "attachments": {},
   "cell_type": "markdown",
   "metadata": {},
   "source": [
    "## Flujos de Control"
   ]
  },
  {
   "attachments": {},
   "cell_type": "markdown",
   "metadata": {},
   "source": [
    "1) Crear una variable que contenga un elemento del conjunto de números enteros y luego imprimir por pantalla si es mayor o menor a cero"
   ]
  },
  {
   "cell_type": "code",
   "execution_count": 5,
   "metadata": {},
   "outputs": [
    {
     "name": "stdout",
     "output_type": "stream",
     "text": [
      "Es un número mayor\n"
     ]
    }
   ],
   "source": [
    "x=12\n",
    "if (x<0):\n",
    "    print('Es un número menor')\n",
    "elif (x>0):\n",
    "    print('Es un número mayor')\n",
    "else:\n",
    "    print('Es igual')"
   ]
  },
  {
   "attachments": {},
   "cell_type": "markdown",
   "metadata": {},
   "source": [
    "2) Crear dos variables y un condicional que informe si son del mismo tipo de dato"
   ]
  },
  {
   "cell_type": "code",
   "execution_count": 2,
   "metadata": {},
   "outputs": [
    {
     "name": "stdout",
     "output_type": "stream",
     "text": [
      "Las variables 3.5 y Python son distintos tipos de datos\n"
     ]
    }
   ],
   "source": [
    "x=3.5\n",
    "y='Python'\n",
    "if (type (x) == type (y)):\n",
    "    print('Las variables son el mismo tipo de dato')\n",
    "else:\n",
    "    print(f'Las variables {x} y {y} son distintos tipos de datos')"
   ]
  },
  {
   "attachments": {},
   "cell_type": "markdown",
   "metadata": {},
   "source": [
    "3) Para los valores enteros del 1 al 20, imprimir por pantalla si es par o impar"
   ]
  },
  {
   "cell_type": "code",
   "execution_count": 3,
   "metadata": {},
   "outputs": [
    {
     "name": "stdout",
     "output_type": "stream",
     "text": [
      "Este número  1  es impar\n",
      "Este número  2  es par\n",
      "Este número  3  es impar\n",
      "Este número  4  es par\n",
      "Este número  5  es impar\n",
      "Este número  6  es par\n",
      "Este número  7  es impar\n",
      "Este número  8  es par\n",
      "Este número  9  es impar\n",
      "Este número  10  es par\n",
      "Este número  11  es impar\n",
      "Este número  12  es par\n",
      "Este número  13  es impar\n",
      "Este número  14  es par\n",
      "Este número  15  es impar\n",
      "Este número  16  es par\n",
      "Este número  17  es impar\n",
      "Este número  18  es par\n",
      "Este número  19  es impar\n",
      "Este número  20  es par\n"
     ]
    }
   ],
   "source": [
    "for a in range(1,21):\n",
    "    if a%2==0:\n",
    "        print('Este número ', str(a), ' es par')\n",
    "    else:\n",
    "        print('Este número ', str(a), ' es impar')"
   ]
  },
  {
   "attachments": {},
   "cell_type": "markdown",
   "metadata": {},
   "source": [
    "4) En un ciclo for mostrar para los valores entre 0 y 5 el resultado de elevarlo a la potencia igual a 3"
   ]
  },
  {
   "cell_type": "code",
   "execution_count": 11,
   "metadata": {},
   "outputs": [
    {
     "name": "stdout",
     "output_type": "stream",
     "text": [
      "Número 0 elevado a la 3ra potencia es igual a  0\n",
      "Número 1 elevado a la 3ra potencia es igual a  1\n",
      "Número 2 elevado a la 3ra potencia es igual a  8\n",
      "Número 3 elevado a la 3ra potencia es igual a  27\n",
      "Número 4 elevado a la 3ra potencia es igual a  64\n",
      "Número 5 elevado a la 3ra potencia es igual a  125\n"
     ]
    }
   ],
   "source": [
    "for a in range(0,6):\n",
    "    print('Número' , str(a), 'elevado a la 3ra potencia es igual a ', str(a**3))\n"
   ]
  },
  {
   "attachments": {},
   "cell_type": "markdown",
   "metadata": {},
   "source": [
    "5) Crear una variable que contenga un número entero y realizar un ciclo for la misma cantidad de ciclos"
   ]
  },
  {
   "cell_type": "code",
   "execution_count": 25,
   "metadata": {},
   "outputs": [
    {
     "name": "stdout",
     "output_type": "stream",
     "text": [
      "9\n"
     ]
    }
   ],
   "source": [
    "n=10\n",
    "for a in range(0,n):\n",
    "    pass\n",
    "print(a)"
   ]
  },
  {
   "attachments": {},
   "cell_type": "markdown",
   "metadata": {},
   "source": [
    "6) Utilizar un ciclo while para realizar el factorial de un número guardado en una variable, sólo si la variable contiene un número entero mayor a 0"
   ]
  },
  {
   "cell_type": "code",
   "execution_count": 37,
   "metadata": {},
   "outputs": [
    {
     "name": "stdout",
     "output_type": "stream",
     "text": [
      "el factorial es 360\n"
     ]
    }
   ],
   "source": [
    "a=6\n",
    "if (type(a)==int):\n",
    "    if (n>0):\n",
    "        factorial=a\n",
    "        while(a>3):\n",
    "            a=a-1\n",
    "            factorial=factorial*a\n",
    "        print('el factorial es' , factorial)\n",
    "    else:\n",
    "        print('la variable no es mayor a cero')\n",
    "else:\n",
    "    print('la variable no es un entero')\n",
    "    "
   ]
  },
  {
   "attachments": {},
   "cell_type": "markdown",
   "metadata": {},
   "source": [
    "7) Crear un ciclo for dentro de un ciclo while"
   ]
  },
  {
   "cell_type": "code",
   "execution_count": 40,
   "metadata": {},
   "outputs": [
    {
     "name": "stdout",
     "output_type": "stream",
     "text": [
      "ciclo while número 1\n",
      "ciclo for número 1\n",
      "ciclo while número 2\n",
      "ciclo for número 1\n",
      "ciclo for número 2\n",
      "ciclo while número 3\n",
      "ciclo for número 1\n",
      "ciclo for número 2\n",
      "ciclo for número 3\n"
     ]
    }
   ],
   "source": [
    "n=1\n",
    "while n<4:\n",
    "    print('ciclo while número ' + str(n))\n",
    "    for i in range(1, n+1):\n",
    "        print('ciclo for número ' + str(i))\n",
    "    n+=1"
   ]
  },
  {
   "attachments": {},
   "cell_type": "markdown",
   "metadata": {},
   "source": [
    "8) Crear un ciclo while dentro de un ciclo for"
   ]
  },
  {
   "cell_type": "code",
   "execution_count": 51,
   "metadata": {},
   "outputs": [
    {
     "name": "stdout",
     "output_type": "stream",
     "text": [
      "ciclo for número 1\n",
      "ciclo while número 5\n",
      "ciclo while número 4\n",
      "ciclo while número 3\n",
      "ciclo while número 2\n",
      "ciclo while número 1\n",
      "ciclo for número 2\n",
      "ciclo while número 5\n",
      "ciclo while número 4\n",
      "ciclo while número 3\n",
      "ciclo while número 2\n",
      "ciclo while número 1\n",
      "ciclo for número 3\n",
      "ciclo while número 5\n",
      "ciclo while número 4\n",
      "ciclo while número 3\n",
      "ciclo while número 2\n",
      "ciclo while número 1\n",
      "ciclo for número 4\n",
      "ciclo while número 5\n",
      "ciclo while número 4\n",
      "ciclo while número 3\n",
      "ciclo while número 2\n",
      "ciclo while número 1\n"
     ]
    }
   ],
   "source": [
    "n=5\n",
    "for i in range(1, n):\n",
    "    print('ciclo for número ' + str(i))\n",
    "    n_temp=n\n",
    "    while n_temp>0:\n",
    "        print('ciclo while número ' + str(n_temp))\n",
    "        n_temp-=1\n",
    "        if n_temp<=0:\n",
    "            break"
   ]
  },
  {
   "attachments": {},
   "cell_type": "markdown",
   "metadata": {},
   "source": [
    "9) Imprimir los números primos existentes entre 0 y 30"
   ]
  },
  {
   "cell_type": "code",
   "execution_count": 52,
   "metadata": {},
   "outputs": [
    {
     "name": "stdout",
     "output_type": "stream",
     "text": [
      "0\n",
      "1\n",
      "2\n",
      "3\n",
      "5\n",
      "7\n",
      "11\n",
      "13\n",
      "17\n",
      "19\n",
      "23\n",
      "29\n"
     ]
    }
   ],
   "source": [
    "tope_rango=30\n",
    "n=0\n",
    "primo=True\n",
    "while(n<tope_rango):\n",
    "    for div in range(2, n):\n",
    "        if(n%div==0):\n",
    "            primo=False\n",
    "    if (primo):\n",
    "        print(n)\n",
    "    else:\n",
    "        primo=True\n",
    "    n+=1"
   ]
  },
  {
   "attachments": {},
   "cell_type": "markdown",
   "metadata": {},
   "source": [
    "10) ¿Se puede mejorar el proceso del punto 9? Utilizar las sentencias break y/ó continue para tal fin"
   ]
  },
  {
   "cell_type": "code",
   "execution_count": 55,
   "metadata": {},
   "outputs": [
    {
     "name": "stdout",
     "output_type": "stream",
     "text": [
      "0\n",
      "1\n",
      "2\n",
      "3\n",
      "5\n",
      "7\n",
      "11\n",
      "13\n",
      "17\n",
      "19\n",
      "23\n",
      "29\n"
     ]
    }
   ],
   "source": [
    "n=0\n",
    "primo=True\n",
    "while(n<tope_rango):\n",
    "    for div in range(2, n):\n",
    "        if(n%div==0):\n",
    "            primo=False\n",
    "            break\n",
    "    if(primo):\n",
    "        print(n)\n",
    "    else:\n",
    "        primo=True\n",
    "    n+=1"
   ]
  },
  {
   "attachments": {},
   "cell_type": "markdown",
   "metadata": {},
   "source": [
    "11) En los puntos 9 y 10, se diseño un código que encuentra números primos y además se lo optimizó. ¿Es posible saber en qué medida se optimizó?"
   ]
  },
  {
   "cell_type": "code",
   "execution_count": 64,
   "metadata": {},
   "outputs": [
    {
     "name": "stdout",
     "output_type": "stream",
     "text": [
      "0\n",
      "1\n",
      "2\n",
      "3\n",
      "5\n",
      "7\n",
      "11\n",
      "13\n",
      "17\n",
      "19\n",
      "23\n",
      "29\n",
      "cantidad de ciclos: 378\n"
     ]
    }
   ],
   "source": [
    "ciclos_sin_break=0\n",
    "n=0\n",
    "primo=True\n",
    "while(n<tope_rango):\n",
    "    for div in range(2, n):\n",
    "        ciclos_sin_break+=1\n",
    "        if(n%div==0):\n",
    "            primo=False\n",
    "    if(primo):\n",
    "        print(n)\n",
    "    else:\n",
    "        primo=True\n",
    "    n+=1\n",
    "print('cantidad de ciclos: ' + str(ciclos_sin_break))"
   ]
  },
  {
   "attachments": {},
   "cell_type": "markdown",
   "metadata": {},
   "source": [
    "12) Aplicando continue, armar un ciclo while que solo imprima los valores divisibles por 12, dentro del rango de números de 100 a 300"
   ]
  },
  {
   "cell_type": "code",
   "execution_count": 70,
   "metadata": {},
   "outputs": [
    {
     "name": "stdout",
     "output_type": "stream",
     "text": [
      "108  es divisible por 12\n",
      "120  es divisible por 12\n",
      "132  es divisible por 12\n",
      "144  es divisible por 12\n",
      "156  es divisible por 12\n",
      "168  es divisible por 12\n",
      "180  es divisible por 12\n",
      "192  es divisible por 12\n",
      "204  es divisible por 12\n",
      "216  es divisible por 12\n",
      "228  es divisible por 12\n",
      "240  es divisible por 12\n",
      "252  es divisible por 12\n",
      "264  es divisible por 12\n",
      "276  es divisible por 12\n",
      "288  es divisible por 12\n",
      "300  es divisible por 12\n"
     ]
    }
   ],
   "source": [
    "a=100\n",
    "while (a<=300):\n",
    "    a+=1\n",
    "    if(a%12 !=0):\n",
    "        continue\n",
    "    print (a, ' es divisible por 12')"
   ]
  },
  {
   "attachments": {},
   "cell_type": "markdown",
   "metadata": {},
   "source": [
    "13) Utilizar la función **input()** que permite hacer ingresos por teclado, para encontrar números primos y dar la opción al usario de buscar el siguiente"
   ]
  },
  {
   "cell_type": "code",
   "execution_count": 1,
   "metadata": {},
   "outputs": [
    {
     "name": "stdout",
     "output_type": "stream",
     "text": [
      "1\n",
      "¿desea encontrar el siguiente número primo?\n"
     ]
    }
   ],
   "source": [
    "n=1\n",
    "sigue=1\n",
    "primo=True\n",
    "while(sigue==1):\n",
    "    for div in range (2, n):\n",
    "        if(n%div==0):\n",
    "            primo=False\n",
    "            break\n",
    "    if(primo):\n",
    "        print(n)\n",
    "        print('¿desea encontrar el siguiente número primo?')\n",
    "        if(input() != '1'):\n",
    "            print('se finaliza el proceso')\n",
    "            break\n",
    "    else:\n",
    "        primo=True\n",
    "    n+=1"
   ]
  },
  {
   "attachments": {},
   "cell_type": "markdown",
   "metadata": {},
   "source": [
    "14) Crear un ciclo while que encuentre dentro del rango de 100 a 300 el primer número divisible por 3 y además múltiplo de 6"
   ]
  },
  {
   "cell_type": "code",
   "execution_count": 2,
   "metadata": {},
   "outputs": [
    {
     "name": "stdout",
     "output_type": "stream",
     "text": [
      "el número es:  102\n"
     ]
    }
   ],
   "source": [
    "n=100\n",
    "while(n<=300):\n",
    "    if(n%6==0):\n",
    "        print('el número es: ', str(n))\n",
    "        break\n",
    "    n+=1"
   ]
  }
 ],
 "metadata": {
  "interpreter": {
   "hash": "c85384e4cb51c8b72350f3a8712cc8351fdc3955e32a27f9b60c6242ab125f01"
  },
  "kernelspec": {
   "display_name": "Python 3 (ipykernel)",
   "language": "python",
   "name": "python3"
  },
  "language_info": {
   "codemirror_mode": {
    "name": "ipython",
    "version": 3
   },
   "file_extension": ".py",
   "mimetype": "text/x-python",
   "name": "python",
   "nbconvert_exporter": "python",
   "pygments_lexer": "ipython3",
   "version": "3.11.9"
  }
 },
 "nbformat": 4,
 "nbformat_minor": 4
}
